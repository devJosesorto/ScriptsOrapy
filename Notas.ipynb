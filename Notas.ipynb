{
 "cells": [
  {
   "cell_type": "markdown",
   "metadata": {},
   "source": [
    "# Importaciones"
   ]
  },
  {
   "cell_type": "code",
   "execution_count": 41,
   "metadata": {},
   "outputs": [],
   "source": [
    "import os\n",
    "import glob\n",
    "import pandas as pd"
   ]
  },
  {
   "cell_type": "code",
   "execution_count": 53,
   "metadata": {},
   "outputs": [],
   "source": [
    "# CARPETA\n",
    "pathCarpeta = r'C:\\Users\\Jose\\Documents\\Python\\Notes\\carpetas'\n",
    "patron = '*.csv'\n",
    "\n",
    "archivosEncontrados = []\n",
    "\n",
    "for carpeta_actual, subcarpetas, archivos in os.walk(pathCarpeta):\n",
    "    archivos_en_carpeta = glob.glob(os.path.join(carpeta_actual, patron))\n",
    "    archivosEncontrados.extend(archivos_en_carpeta)"
   ]
  },
  {
   "cell_type": "code",
   "execution_count": null,
   "metadata": {},
   "outputs": [],
   "source": [
    "# Imprime la lista de archivos encontrados\n",
    "for ruta in archivosEncontrados:\n",
    "    print(ruta)\n"
   ]
  },
  {
   "cell_type": "code",
   "execution_count": 46,
   "metadata": {},
   "outputs": [],
   "source": [
    "# Leer y unir los archivos\n",
    "dfs = [pd.read_csv(archivo, encoding='latin-1') for archivo in archivosEncontrados]\n",
    "resultado = pd.concat(dfs, ignore_index=True)\n",
    "\n",
    "# Guardar el resultado en un nuevo archivo CSV\n",
    "resultado.to_csv('archivo_unido.csv', index=False)"
   ]
  },
  {
   "cell_type": "code",
   "execution_count": 48,
   "metadata": {},
   "outputs": [],
   "source": [
    "#Optimizado\n",
    "# Leer y unir los archivos directamente sin usar una lista de DataFrames intermedia\n",
    "resultado = pd.concat((pd.read_csv(archivo, encoding='latin-1') for archivo in archivosEncontrados), ignore_index=True)\n",
    "\n",
    "# Guardar el resultado en un nuevo archivo CSV\n",
    "resultado.to_csv('archivo_unidov2.csv', index=False)"
   ]
  },
  {
   "cell_type": "code",
   "execution_count": null,
   "metadata": {},
   "outputs": [],
   "source": []
  }
 ],
 "metadata": {
  "kernelspec": {
   "display_name": "Python 3",
   "language": "python",
   "name": "python3"
  },
  "language_info": {
   "codemirror_mode": {
    "name": "ipython",
    "version": 3
   },
   "file_extension": ".py",
   "mimetype": "text/x-python",
   "name": "python",
   "nbconvert_exporter": "python",
   "pygments_lexer": "ipython3",
   "version": "3.10.6"
  }
 },
 "nbformat": 4,
 "nbformat_minor": 2
}
